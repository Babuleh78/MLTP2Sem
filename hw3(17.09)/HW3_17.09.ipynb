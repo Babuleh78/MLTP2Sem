{
 "cells": [
  {
   "cell_type": "code",
   "execution_count": 2,
   "id": "a084b611",
   "metadata": {
    "id": "a084b611"
   },
   "outputs": [],
   "source": [
    "import matplotlib.pyplot as plt\n",
    "%matplotlib inline\n",
    "import numpy as np\n",
    "import cv2\n",
    "import sklearn\n",
    "import PIL\n",
    "import torch\n",
    "import torchvision\n",
    "from matplotlib import cm\n",
    "\n",
    "import warnings\n",
    "warnings.filterwarnings('ignore')"
   ]
  },
  {
   "cell_type": "code",
   "execution_count": 3,
   "id": "b24b5d07",
   "metadata": {
    "id": "b24b5d07"
   },
   "outputs": [],
   "source": [
    "import torch\n",
    "import torch.nn.functional as F\n",
    "import torchvision\n",
    "import os\n",
    "from torch import nn\n",
    "from tqdm import tqdm"
   ]
  },
  {
   "cell_type": "code",
   "execution_count": 4,
   "id": "209aed95",
   "metadata": {
    "id": "209aed95"
   },
   "outputs": [],
   "source": [
    "transform = torchvision.transforms.Compose(\n",
    "    [\n",
    "        torchvision.transforms.ToTensor(),\n",
    "        torchvision.transforms.Normalize((0.1307,), (0.3081,))\n",
    "    ]\n",
    ")"
   ]
  },
  {
   "cell_type": "code",
   "execution_count": 5,
   "id": "rF6ZO9SUDMmG",
   "metadata": {
    "id": "rF6ZO9SUDMmG"
   },
   "outputs": [],
   "source": [
    "def seed_everything(seed):\n",
    "    os.environ['PYTHONHASHSEED'] = str(seed)\n",
    "    np.random.seed(seed)\n",
    "    torch.manual_seed(seed)\n",
    "    torch.backends.cudnn.deterministic = True\n",
    "    torch.backends.cudnn.benchmark = False\n"
   ]
  },
  {
   "cell_type": "markdown",
   "id": "a47a26f6",
   "metadata": {
    "id": "a47a26f6"
   },
   "source": [
    "# Домашнее задание"
   ]
  },
  {
   "cell_type": "markdown",
   "id": "88da5598",
   "metadata": {
    "id": "88da5598"
   },
   "source": [
    "Обучите сверточную нейронную сеть на датасете MNIST, взяв любой другой оптимизатор (кроме SGD) и любую другую функцию ошибки (кроме cross-entropy loss). Попробуйте поварьировать параметры: кол-во ядер, `kernel_size` и побить текущий бейзлайн в `0.9747`. Выведите количество обучаемых параметров.    \n",
    "Какого качества удалось достичь? Попробуйте залоггировать Ваши результаты - построить графики того, как менялись метрики качества (accuracy, loss) с течением эпох, включить логгирование, сравнить результаты между собой при разных параметрах.\n",
    "\n",
    "Любые дополнительные улучшения (как по методам, так и по коду пайплайна) приветствуются!\n",
    "\n",
    "*Цель:* выработать навык обучения нейронных сетей (в частности сверточных) на основе средств PyTorch, начиная от загрузки датасетами и заканчивая выводами результатов, их логгированием, сравнением и анализом."
   ]
  },
  {
   "cell_type": "code",
   "execution_count": 6,
   "id": "cf455aea-7dad-4f74-8889-55eedc3f444a",
   "metadata": {},
   "outputs": [],
   "source": [
    "seed_everything(42)\n",
    "\n",
    "mnist_train = torchvision.datasets.MNIST(\n",
    "    './mnist/',\n",
    "    train=True,\n",
    "    download=True,\n",
    "    transform=transform\n",
    ")\n",
    "\n",
    "mnist_val = torchvision.datasets.MNIST(\n",
    "    './mnist/',\n",
    "    train=False,\n",
    "    download=True,\n",
    "    transform=transform\n",
    ")\n",
    "\n",
    "train_dataloader = torch.utils.data.DataLoader(mnist_train, batch_size=64, shuffle=True)\n",
    "val_dataloader = torch.utils.data.DataLoader(mnist_val, batch_size=64, shuffle=True)"
   ]
  },
  {
   "cell_type": "code",
   "execution_count": 8,
   "id": "a99a315e-f288-49a8-8d3b-fb9806bb0377",
   "metadata": {},
   "outputs": [],
   "source": [
    "\n",
    "def train(\n",
    "    model,\n",
    "    optimizer,\n",
    "    loss_fn,  \n",
    "    n_epochs=5,\n",
    "    train_dataloader=None,\n",
    "    val_dataloader=None\n",
    "):\n",
    "    train_acc_history = []\n",
    "    val_acc_history = []\n",
    "    val_loss_history = []\n",
    "\n",
    "    for epoch in range(n_epochs):\n",
    "        model.train()\n",
    "        epoch_train_correct = 0\n",
    "        epoch_train_total = 0\n",
    "\n",
    "        for x_train, y_train in tqdm(train_dataloader, desc=f\"Epoch {epoch+1}/{n_epochs} (Train)\", leave=False):\n",
    "            optimizer.zero_grad()\n",
    "            y_pred = model(x_train)\n",
    "            \n",
    "            if loss_fn == F.binary_cross_entropy_with_logits:\n",
    "                y_train_onehot = F.one_hot(y_train, num_classes=y_pred.size(1)).float()\n",
    "                loss = loss_fn(y_pred, y_train_onehot)\n",
    "            else:\n",
    "                loss = loss_fn(y_pred, y_train)\n",
    "                \n",
    "            loss.backward()\n",
    "            optimizer.step()\n",
    "\n",
    "            if y_pred.dim() > 1 and y_pred.size(1) > 1:  \n",
    "                preds = torch.argmax(y_pred, dim=1)\n",
    "            else:  \n",
    "                preds = (y_pred > 0.5).long().squeeze()\n",
    "\n",
    "            epoch_train_correct += (preds == y_train).sum().item()\n",
    "            epoch_train_total += y_train.size(0)\n",
    "\n",
    "        train_acc = epoch_train_correct / epoch_train_total if epoch_train_total > 0 else 0\n",
    "        train_acc_history.append(train_acc)\n",
    "\n",
    "        model.eval()\n",
    "        val_loss = []\n",
    "        val_correct = 0\n",
    "        val_total = 0\n",
    "\n",
    "        with torch.no_grad():\n",
    "            for x_val, y_val in tqdm(val_dataloader, desc=\"Validation\", leave=False):\n",
    "                y_pred = model(x_val)\n",
    "\n",
    "                if loss_fn == F.binary_cross_entropy_with_logits:\n",
    "                    y_val_onehot = F.one_hot(y_val, num_classes=10).float()\n",
    "                    loss = loss_fn(y_pred, y_val_onehot)\n",
    "                else:\n",
    "                    loss = loss_fn(y_pred, y_val)\n",
    "                \n",
    "                val_loss.append(loss.item())\n",
    "\n",
    "                if y_pred.dim() > 1 and y_pred.size(1) > 1:\n",
    "                    preds = torch.argmax(y_pred, dim=1)\n",
    "                else:\n",
    "                    preds = (y_pred > 0.5).long().squeeze()\n",
    "\n",
    "                val_correct += (preds == y_val).sum().item()\n",
    "                val_total += y_val.size(0)\n",
    "\n",
    "        avg_val_loss = np.mean(val_loss)\n",
    "        val_acc = val_correct / val_total if val_total > 0 else 0\n",
    "\n",
    "        val_loss_history.append(avg_val_loss)\n",
    "        val_acc_history.append(val_acc)\n",
    "\n",
    "        print(f'Epoch {epoch+1}: Train Acc: {train_acc:.4f}, Val Acc: {val_acc:.4f}, Val Loss: {avg_val_loss:.4f}')\n",
    "\n",
    "    return {\n",
    "        'train_acc': train_acc_history,\n",
    "        'val_acc': val_acc_history,\n",
    "        'val_loss': val_loss_history\n",
    "    }"
   ]
  },
  {
   "cell_type": "code",
   "execution_count": 9,
   "id": "223a383f-e8e3-4d9c-95a8-5bc71ec5f135",
   "metadata": {},
   "outputs": [
    {
     "name": "stdout",
     "output_type": "stream",
     "text": [
      "\n",
      " Training with Adagrad and binary_cross_entropy_with_logits\n"
     ]
    },
    {
     "name": "stderr",
     "output_type": "stream",
     "text": [
      "                                                                                                                                              "
     ]
    },
    {
     "name": "stdout",
     "output_type": "stream",
     "text": [
      "Epoch 1: Train Acc: 0.9325, Val Acc: 0.9694, Val Loss: 0.0230\n"
     ]
    },
    {
     "name": "stderr",
     "output_type": "stream",
     "text": [
      "                                                                                                                                              "
     ]
    },
    {
     "name": "stdout",
     "output_type": "stream",
     "text": [
      "Epoch 2: Train Acc: 0.9723, Val Acc: 0.9759, Val Loss: 0.0178\n"
     ]
    },
    {
     "name": "stderr",
     "output_type": "stream",
     "text": [
      "                                                                                                                                              "
     ]
    },
    {
     "name": "stdout",
     "output_type": "stream",
     "text": [
      "Epoch 3: Train Acc: 0.9776, Val Acc: 0.9799, Val Loss: 0.0148\n"
     ]
    },
    {
     "name": "stderr",
     "output_type": "stream",
     "text": [
      "                                                                                                                                              "
     ]
    },
    {
     "name": "stdout",
     "output_type": "stream",
     "text": [
      "Epoch 4: Train Acc: 0.9802, Val Acc: 0.9813, Val Loss: 0.0135\n"
     ]
    },
    {
     "name": "stderr",
     "output_type": "stream",
     "text": [
      "                                                                                                                                              "
     ]
    },
    {
     "name": "stdout",
     "output_type": "stream",
     "text": [
      "Epoch 5: Train Acc: 0.9817, Val Acc: 0.9819, Val Loss: 0.0127\n",
      "\n",
      " Training with Adagrad and cross_entropy\n"
     ]
    },
    {
     "name": "stderr",
     "output_type": "stream",
     "text": [
      "                                                                                                                                              "
     ]
    },
    {
     "name": "stdout",
     "output_type": "stream",
     "text": [
      "Epoch 1: Train Acc: 0.9396, Val Acc: 0.9717, Val Loss: 0.0981\n"
     ]
    },
    {
     "name": "stderr",
     "output_type": "stream",
     "text": [
      "                                                                                                                                              "
     ]
    },
    {
     "name": "stdout",
     "output_type": "stream",
     "text": [
      "Epoch 2: Train Acc: 0.9722, Val Acc: 0.9777, Val Loss: 0.0789\n"
     ]
    },
    {
     "name": "stderr",
     "output_type": "stream",
     "text": [
      "                                                                                                                                              "
     ]
    },
    {
     "name": "stdout",
     "output_type": "stream",
     "text": [
      "Epoch 3: Train Acc: 0.9777, Val Acc: 0.9800, Val Loss: 0.0643\n"
     ]
    },
    {
     "name": "stderr",
     "output_type": "stream",
     "text": [
      "                                                                                                                                              "
     ]
    },
    {
     "name": "stdout",
     "output_type": "stream",
     "text": [
      "Epoch 4: Train Acc: 0.9805, Val Acc: 0.9818, Val Loss: 0.0578\n"
     ]
    },
    {
     "name": "stderr",
     "output_type": "stream",
     "text": [
      "                                                                                                                                              "
     ]
    },
    {
     "name": "stdout",
     "output_type": "stream",
     "text": [
      "Epoch 5: Train Acc: 0.9826, Val Acc: 0.9827, Val Loss: 0.0519\n",
      "\n",
      " Training with Adam and binary_cross_entropy_with_logits\n"
     ]
    },
    {
     "name": "stderr",
     "output_type": "stream",
     "text": [
      "                                                                                                                                              "
     ]
    },
    {
     "name": "stdout",
     "output_type": "stream",
     "text": [
      "Epoch 1: Train Acc: 0.9109, Val Acc: 0.9662, Val Loss: 0.0235\n"
     ]
    },
    {
     "name": "stderr",
     "output_type": "stream",
     "text": [
      "                                                                                                                                              "
     ]
    },
    {
     "name": "stdout",
     "output_type": "stream",
     "text": [
      "Epoch 2: Train Acc: 0.9751, Val Acc: 0.9815, Val Loss: 0.0131\n"
     ]
    },
    {
     "name": "stderr",
     "output_type": "stream",
     "text": [
      "                                                                                                                                              "
     ]
    },
    {
     "name": "stdout",
     "output_type": "stream",
     "text": [
      "Epoch 3: Train Acc: 0.9825, Val Acc: 0.9835, Val Loss: 0.0112\n"
     ]
    },
    {
     "name": "stderr",
     "output_type": "stream",
     "text": [
      "                                                                                                                                              "
     ]
    },
    {
     "name": "stdout",
     "output_type": "stream",
     "text": [
      "Epoch 4: Train Acc: 0.9856, Val Acc: 0.9875, Val Loss: 0.0092\n"
     ]
    },
    {
     "name": "stderr",
     "output_type": "stream",
     "text": [
      "                                                                                                                                              "
     ]
    },
    {
     "name": "stdout",
     "output_type": "stream",
     "text": [
      "Epoch 5: Train Acc: 0.9883, Val Acc: 0.9852, Val Loss: 0.0100\n",
      "\n",
      " Training with Adam and cross_entropy\n"
     ]
    },
    {
     "name": "stderr",
     "output_type": "stream",
     "text": [
      "                                                                                                                                              "
     ]
    },
    {
     "name": "stdout",
     "output_type": "stream",
     "text": [
      "Epoch 1: Train Acc: 0.9367, Val Acc: 0.9751, Val Loss: 0.0783\n"
     ]
    },
    {
     "name": "stderr",
     "output_type": "stream",
     "text": [
      "                                                                                                                                              "
     ]
    },
    {
     "name": "stdout",
     "output_type": "stream",
     "text": [
      "Epoch 2: Train Acc: 0.9776, Val Acc: 0.9836, Val Loss: 0.0499\n"
     ]
    },
    {
     "name": "stderr",
     "output_type": "stream",
     "text": [
      "                                                                                                                                              "
     ]
    },
    {
     "name": "stdout",
     "output_type": "stream",
     "text": [
      "Epoch 3: Train Acc: 0.9829, Val Acc: 0.9830, Val Loss: 0.0473\n"
     ]
    },
    {
     "name": "stderr",
     "output_type": "stream",
     "text": [
      "                                                                                                                                              "
     ]
    },
    {
     "name": "stdout",
     "output_type": "stream",
     "text": [
      "Epoch 4: Train Acc: 0.9869, Val Acc: 0.9830, Val Loss: 0.0488\n"
     ]
    },
    {
     "name": "stderr",
     "output_type": "stream",
     "text": [
      "                                                                                                                                              "
     ]
    },
    {
     "name": "stdout",
     "output_type": "stream",
     "text": [
      "Epoch 5: Train Acc: 0.9888, Val Acc: 0.9861, Val Loss: 0.0431\n",
      "\n",
      " Training with RMSprop and binary_cross_entropy_with_logits\n"
     ]
    },
    {
     "name": "stderr",
     "output_type": "stream",
     "text": [
      "                                                                                                                                              "
     ]
    },
    {
     "name": "stdout",
     "output_type": "stream",
     "text": [
      "Epoch 1: Train Acc: 0.9401, Val Acc: 0.9698, Val Loss: 0.0211\n"
     ]
    },
    {
     "name": "stderr",
     "output_type": "stream",
     "text": [
      "                                                                                                                                              "
     ]
    },
    {
     "name": "stdout",
     "output_type": "stream",
     "text": [
      "Epoch 2: Train Acc: 0.9781, Val Acc: 0.9821, Val Loss: 0.0110\n"
     ]
    },
    {
     "name": "stderr",
     "output_type": "stream",
     "text": [
      "                                                                                                                                              "
     ]
    },
    {
     "name": "stdout",
     "output_type": "stream",
     "text": [
      "Epoch 3: Train Acc: 0.9843, Val Acc: 0.9858, Val Loss: 0.0096\n"
     ]
    },
    {
     "name": "stderr",
     "output_type": "stream",
     "text": [
      "                                                                                                                                              "
     ]
    },
    {
     "name": "stdout",
     "output_type": "stream",
     "text": [
      "Epoch 4: Train Acc: 0.9876, Val Acc: 0.9848, Val Loss: 0.0093\n"
     ]
    },
    {
     "name": "stderr",
     "output_type": "stream",
     "text": [
      "                                                                                                                                              "
     ]
    },
    {
     "name": "stdout",
     "output_type": "stream",
     "text": [
      "Epoch 5: Train Acc: 0.9898, Val Acc: 0.9872, Val Loss: 0.0096\n",
      "\n",
      " Training with RMSprop and cross_entropy\n"
     ]
    },
    {
     "name": "stderr",
     "output_type": "stream",
     "text": [
      "                                                                                                                                              "
     ]
    },
    {
     "name": "stdout",
     "output_type": "stream",
     "text": [
      "Epoch 1: Train Acc: 0.9430, Val Acc: 0.9624, Val Loss: 0.1219\n"
     ]
    },
    {
     "name": "stderr",
     "output_type": "stream",
     "text": [
      "                                                                                                                                              "
     ]
    },
    {
     "name": "stdout",
     "output_type": "stream",
     "text": [
      "Epoch 2: Train Acc: 0.9775, Val Acc: 0.9845, Val Loss: 0.0483\n"
     ]
    },
    {
     "name": "stderr",
     "output_type": "stream",
     "text": [
      "                                                                                                                                              "
     ]
    },
    {
     "name": "stdout",
     "output_type": "stream",
     "text": [
      "Epoch 3: Train Acc: 0.9842, Val Acc: 0.9824, Val Loss: 0.0565\n"
     ]
    },
    {
     "name": "stderr",
     "output_type": "stream",
     "text": [
      "                                                                                                                                              "
     ]
    },
    {
     "name": "stdout",
     "output_type": "stream",
     "text": [
      "Epoch 4: Train Acc: 0.9870, Val Acc: 0.9863, Val Loss: 0.0429\n"
     ]
    },
    {
     "name": "stderr",
     "output_type": "stream",
     "text": [
      "                                                                                                                                              "
     ]
    },
    {
     "name": "stdout",
     "output_type": "stream",
     "text": [
      "Epoch 5: Train Acc: 0.9896, Val Acc: 0.9844, Val Loss: 0.0488\n",
      "\n",
      " Training with AdamW and binary_cross_entropy_with_logits\n"
     ]
    },
    {
     "name": "stderr",
     "output_type": "stream",
     "text": [
      "                                                                                                                                              "
     ]
    },
    {
     "name": "stdout",
     "output_type": "stream",
     "text": [
      "Epoch 1: Train Acc: 0.9092, Val Acc: 0.9722, Val Loss: 0.0197\n"
     ]
    },
    {
     "name": "stderr",
     "output_type": "stream",
     "text": [
      "                                                                                                                                              "
     ]
    },
    {
     "name": "stdout",
     "output_type": "stream",
     "text": [
      "Epoch 2: Train Acc: 0.9768, Val Acc: 0.9816, Val Loss: 0.0128\n"
     ]
    },
    {
     "name": "stderr",
     "output_type": "stream",
     "text": [
      "                                                                                                                                              "
     ]
    },
    {
     "name": "stdout",
     "output_type": "stream",
     "text": [
      "Epoch 3: Train Acc: 0.9827, Val Acc: 0.9854, Val Loss: 0.0105\n"
     ]
    },
    {
     "name": "stderr",
     "output_type": "stream",
     "text": [
      "                                                                                                                                              "
     ]
    },
    {
     "name": "stdout",
     "output_type": "stream",
     "text": [
      "Epoch 4: Train Acc: 0.9861, Val Acc: 0.9866, Val Loss: 0.0092\n"
     ]
    },
    {
     "name": "stderr",
     "output_type": "stream",
     "text": [
      "                                                                                                                                              "
     ]
    },
    {
     "name": "stdout",
     "output_type": "stream",
     "text": [
      "Epoch 5: Train Acc: 0.9884, Val Acc: 0.9881, Val Loss: 0.0086\n",
      "\n",
      " Training with AdamW and cross_entropy\n"
     ]
    },
    {
     "name": "stderr",
     "output_type": "stream",
     "text": [
      "                                                                                                                                              "
     ]
    },
    {
     "name": "stdout",
     "output_type": "stream",
     "text": [
      "Epoch 1: Train Acc: 0.9337, Val Acc: 0.9777, Val Loss: 0.0743\n"
     ]
    },
    {
     "name": "stderr",
     "output_type": "stream",
     "text": [
      "                                                                                                                                              "
     ]
    },
    {
     "name": "stdout",
     "output_type": "stream",
     "text": [
      "Epoch 2: Train Acc: 0.9773, Val Acc: 0.9818, Val Loss: 0.0594\n"
     ]
    },
    {
     "name": "stderr",
     "output_type": "stream",
     "text": [
      "                                                                                                                                              "
     ]
    },
    {
     "name": "stdout",
     "output_type": "stream",
     "text": [
      "Epoch 3: Train Acc: 0.9834, Val Acc: 0.9841, Val Loss: 0.0470\n"
     ]
    },
    {
     "name": "stderr",
     "output_type": "stream",
     "text": [
      "                                                                                                                                              "
     ]
    },
    {
     "name": "stdout",
     "output_type": "stream",
     "text": [
      "Epoch 4: Train Acc: 0.9860, Val Acc: 0.9839, Val Loss: 0.0531\n"
     ]
    },
    {
     "name": "stderr",
     "output_type": "stream",
     "text": [
      "                                                                                                                                              "
     ]
    },
    {
     "name": "stdout",
     "output_type": "stream",
     "text": [
      "Epoch 5: Train Acc: 0.9884, Val Acc: 0.9841, Val Loss: 0.0467\n"
     ]
    },
    {
     "name": "stderr",
     "output_type": "stream",
     "text": []
    }
   ],
   "source": [
    "\n",
    "optimizers_config = [\n",
    "    {'name': 'Adagrad', 'optimizer': lambda params: torch.optim.Adagrad(params, lr=0.01)},\n",
    "    {'name': 'Adam', 'optimizer': lambda params: torch.optim.Adam(params, lr=0.001)},\n",
    "    {'name': 'RMSprop', 'optimizer': lambda params: torch.optim.RMSprop(params, lr=0.001)},\n",
    "    {'name': 'AdamW', 'optimizer': lambda params: torch.optim.AdamW(params, lr=0.001, weight_decay=0.01)},\n",
    "]\n",
    "\n",
    "loss_fn_config = [\n",
    "     {'name': 'binary_cross_entropy_with_logits', 'loss_fn': F.binary_cross_entropy_with_logits},\n",
    "    {'name': 'cross_entropy', 'loss_fn': F.cross_entropy},\n",
    "]\n",
    "\n",
    "results = {}\n",
    "\n",
    "for opt_config in optimizers_config:\n",
    "    for loss_config in loss_fn_config:\n",
    "        print(f\"\\n Training with {opt_config['name']} and {loss_config['name']}\")\n",
    "    \n",
    "        model = nn.Sequential(\n",
    "            nn.Conv2d(in_channels=1, out_channels=10, kernel_size=5),\n",
    "            nn.ReLU(),\n",
    "            nn.MaxPool2d(kernel_size=4),\n",
    "            nn.Flatten(),\n",
    "            nn.Linear(6*6*10, 128),\n",
    "            nn.ReLU(),\n",
    "            nn.Linear(128, 10)\n",
    "        )\n",
    "    \n",
    "        optimizer = opt_config['optimizer'](model.parameters())\n",
    "        loss_fn = loss_config['loss_fn']\n",
    "        # \n",
    "        history = train(model, optimizer, loss_fn, n_epochs=5, train_dataloader=train_dataloader, val_dataloader=val_dataloader)\n",
    "    \n",
    "        results[opt_config['name'] + \" and \" + loss_config['name']] = history"
   ]
  },
  {
   "cell_type": "code",
   "execution_count": 10,
   "id": "b3e4c600-0fac-450c-8389-b999863475f2",
   "metadata": {},
   "outputs": [
    {
     "data": {
      "image/png": "[encoded data removed]",
      "text/plain": [
       "<Figure size 1200x600 with 1 Axes>"
      ]
     },
     "metadata": {},
     "output_type": "display_data"
    }
   ],
   "source": [
    "plt.figure(figsize=(12, 6))\n",
    "\n",
    "for name, history in results.items():\n",
    "    epochs = range(1, len(history['val_acc']) + 1)\n",
    "    plt.plot(epochs, history['val_acc'], label=f'{name} (Val Accuracy)', marker='o')\n",
    "\n",
    "plt.title('Сравнение оптимизаторов по validation accuracy')\n",
    "plt.xlabel('Эпоха')\n",
    "plt.ylabel('Accuracy')\n",
    "plt.legend()\n",
    "plt.grid(True)\n",
    "plt.xticks(epochs)  \n",
    "plt.ylim(0.96, 0.99)\n",
    "plt.show()\n"
   ]
  },
  {
   "cell_type": "markdown",
   "id": "de81e71a-5855-4c0d-83f8-7269d5d9a13e",
   "metadata": {},
   "source": [
    "# Сравнение оптимизаторов и функций потерь\n",
    "\n",
    "На представленном графике показана динамика точности для различных комбинаций оптимизаторов и функций потерь при обучении модели \n",
    "График демонстрирует, что:\n",
    "\n",
    "- Все модели достигают высокой точности (>97%) уже к 2-3 эпохе.\n",
    "- **Adam** и **AdamW** с обеими функциями потерь (cross_entropy и binary_cross_entropy_with_logits) показывают лучшую стабильность и конечную точность (~0.985-0.988).\n",
    "- **Adagrad** и **RMSprop** с `cross_entropy` начинают с более низкой точности, но постепенно улучшаются.\n",
    "- Использование `binary_cross_entropy_with_logits` в сочетании с Adam/AdamW приводит к быстрой сходимости, хотя `cross_entropy` часто дает немного лучший финальный результат (зависит от сида и конечные значения могут отличаться)\n",
    "\n",
    "\n",
    "## Вывод\n",
    "\n",
    "Лучшие результаты показали **RMSprop** и **AdamW** с **binary_cross_entropy**, которые обеспечивают высокую точность и стабильную сходимость. В дальнейшем возьмем за оптимизатор **RMSprop**, а за функцию потерь **binary_cross_entropy** и попробуем подобрать параметры модели - kernel_size и out_channels\n",
    "\n"
   ]
  },
  {
   "cell_type": "code",
   "execution_count": 12,
   "id": "5abe67f3-86fa-42f1-a581-663aebb85a0d",
   "metadata": {},
   "outputs": [
    {
     "name": "stdout",
     "output_type": "stream",
     "text": [
      "Обучение модели: kernel_size=1, out_channels=8\n"
     ]
    },
    {
     "name": "stderr",
     "output_type": "stream",
     "text": [
      "                                                                                                                                              "
     ]
    },
    {
     "name": "stdout",
     "output_type": "stream",
     "text": [
      "Epoch 1: Train Acc: 0.7974, Val Acc: 0.8245, Val Loss: 0.0951\n"
     ]
    },
    {
     "name": "stderr",
     "output_type": "stream",
     "text": [
      "                                                                                                                                              "
     ]
    },
    {
     "name": "stdout",
     "output_type": "stream",
     "text": [
      "Epoch 2: Train Acc: 0.8591, Val Acc: 0.8678, Val Loss: 0.0729\n"
     ]
    },
    {
     "name": "stderr",
     "output_type": "stream",
     "text": [
      "                                                                                                                                              "
     ]
    },
    {
     "name": "stdout",
     "output_type": "stream",
     "text": [
      "Epoch 3: Train Acc: 0.8769, Val Acc: 0.8809, Val Loss: 0.0672\n"
     ]
    },
    {
     "name": "stderr",
     "output_type": "stream",
     "text": [
      "                                                                                                                                              "
     ]
    },
    {
     "name": "stdout",
     "output_type": "stream",
     "text": [
      "Epoch 4: Train Acc: 0.8876, Val Acc: 0.8899, Val Loss: 0.0635\n"
     ]
    },
    {
     "name": "stderr",
     "output_type": "stream",
     "text": [
      "                                                                                                                                              "
     ]
    },
    {
     "name": "stdout",
     "output_type": "stream",
     "text": [
      "Epoch 5: Train Acc: 0.8934, Val Acc: 0.8892, Val Loss: 0.0628\n",
      "Final Val Acc: 0.8892\n",
      "Обучение модели: kernel_size=1, out_channels=16\n"
     ]
    },
    {
     "name": "stderr",
     "output_type": "stream",
     "text": [
      "                                                                                                                                              "
     ]
    },
    {
     "name": "stdout",
     "output_type": "stream",
     "text": [
      "Epoch 1: Train Acc: 0.7684, Val Acc: 0.8366, Val Loss: 0.0931\n"
     ]
    },
    {
     "name": "stderr",
     "output_type": "stream",
     "text": [
      "                                                                                                                                              "
     ]
    },
    {
     "name": "stdout",
     "output_type": "stream",
     "text": [
      "Epoch 2: Train Acc: 0.8487, Val Acc: 0.8529, Val Loss: 0.0830\n"
     ]
    },
    {
     "name": "stderr",
     "output_type": "stream",
     "text": [
      "                                                                                                                                              "
     ]
    },
    {
     "name": "stdout",
     "output_type": "stream",
     "text": [
      "Epoch 3: Train Acc: 0.8705, Val Acc: 0.8793, Val Loss: 0.0705\n"
     ]
    },
    {
     "name": "stderr",
     "output_type": "stream",
     "text": [
      "                                                                                                                                              "
     ]
    },
    {
     "name": "stdout",
     "output_type": "stream",
     "text": [
      "Epoch 4: Train Acc: 0.8817, Val Acc: 0.8818, Val Loss: 0.0677\n"
     ]
    },
    {
     "name": "stderr",
     "output_type": "stream",
     "text": [
      "                                                                                                                                              "
     ]
    },
    {
     "name": "stdout",
     "output_type": "stream",
     "text": [
      "Epoch 5: Train Acc: 0.8879, Val Acc: 0.8901, Val Loss: 0.0634\n",
      "Final Val Acc: 0.8901\n",
      "Обучение модели: kernel_size=1, out_channels=32\n"
     ]
    },
    {
     "name": "stderr",
     "output_type": "stream",
     "text": [
      "                                                                                                                                              "
     ]
    },
    {
     "name": "stdout",
     "output_type": "stream",
     "text": [
      "Epoch 1: Train Acc: 0.7867, Val Acc: 0.8496, Val Loss: 0.0846\n"
     ]
    },
    {
     "name": "stderr",
     "output_type": "stream",
     "text": [
      "                                                                                                                                              "
     ]
    },
    {
     "name": "stdout",
     "output_type": "stream",
     "text": [
      "Epoch 2: Train Acc: 0.8582, Val Acc: 0.8745, Val Loss: 0.0722\n"
     ]
    },
    {
     "name": "stderr",
     "output_type": "stream",
     "text": [
      "                                                                                                                                              "
     ]
    },
    {
     "name": "stdout",
     "output_type": "stream",
     "text": [
      "Epoch 3: Train Acc: 0.8751, Val Acc: 0.8849, Val Loss: 0.0689\n"
     ]
    },
    {
     "name": "stderr",
     "output_type": "stream",
     "text": [
      "                                                                                                                                              "
     ]
    },
    {
     "name": "stdout",
     "output_type": "stream",
     "text": [
      "Epoch 4: Train Acc: 0.8847, Val Acc: 0.8911, Val Loss: 0.0637\n"
     ]
    },
    {
     "name": "stderr",
     "output_type": "stream",
     "text": [
      "                                                                                                                                              "
     ]
    },
    {
     "name": "stdout",
     "output_type": "stream",
     "text": [
      "Epoch 5: Train Acc: 0.8910, Val Acc: 0.8921, Val Loss: 0.0640\n",
      "Final Val Acc: 0.8921\n",
      "Обучение модели: kernel_size=1, out_channels=64\n"
     ]
    },
    {
     "name": "stderr",
     "output_type": "stream",
     "text": [
      "                                                                                                                                              "
     ]
    },
    {
     "name": "stdout",
     "output_type": "stream",
     "text": [
      "Epoch 1: Train Acc: 0.7765, Val Acc: 0.8231, Val Loss: 0.0967\n"
     ]
    },
    {
     "name": "stderr",
     "output_type": "stream",
     "text": [
      "                                                                                                                                              "
     ]
    },
    {
     "name": "stdout",
     "output_type": "stream",
     "text": [
      "Epoch 2: Train Acc: 0.8496, Val Acc: 0.8581, Val Loss: 0.0824\n"
     ]
    },
    {
     "name": "stderr",
     "output_type": "stream",
     "text": [
      "                                                                                                                                              "
     ]
    },
    {
     "name": "stdout",
     "output_type": "stream",
     "text": [
      "Epoch 3: Train Acc: 0.8683, Val Acc: 0.8763, Val Loss: 0.0737\n"
     ]
    },
    {
     "name": "stderr",
     "output_type": "stream",
     "text": [
      "                                                                                                                                              "
     ]
    },
    {
     "name": "stdout",
     "output_type": "stream",
     "text": [
      "Epoch 4: Train Acc: 0.8785, Val Acc: 0.8767, Val Loss: 0.0718\n"
     ]
    },
    {
     "name": "stderr",
     "output_type": "stream",
     "text": [
      "                                                                                                                                              "
     ]
    },
    {
     "name": "stdout",
     "output_type": "stream",
     "text": [
      "Epoch 5: Train Acc: 0.8860, Val Acc: 0.8717, Val Loss: 0.0790\n",
      "Final Val Acc: 0.8717\n",
      "Обучение модели: kernel_size=5, out_channels=8\n"
     ]
    },
    {
     "name": "stderr",
     "output_type": "stream",
     "text": [
      "                                                                                                                                              "
     ]
    },
    {
     "name": "stdout",
     "output_type": "stream",
     "text": [
      "Epoch 1: Train Acc: 0.9333, Val Acc: 0.9783, Val Loss: 0.0171\n"
     ]
    },
    {
     "name": "stderr",
     "output_type": "stream",
     "text": [
      "                                                                                                                                              "
     ]
    },
    {
     "name": "stdout",
     "output_type": "stream",
     "text": [
      "Epoch 2: Train Acc: 0.9780, Val Acc: 0.9827, Val Loss: 0.0122\n"
     ]
    },
    {
     "name": "stderr",
     "output_type": "stream",
     "text": [
      "                                                                                                                                              "
     ]
    },
    {
     "name": "stdout",
     "output_type": "stream",
     "text": [
      "Epoch 3: Train Acc: 0.9835, Val Acc: 0.9850, Val Loss: 0.0102\n"
     ]
    },
    {
     "name": "stderr",
     "output_type": "stream",
     "text": [
      "                                                                                                                                              "
     ]
    },
    {
     "name": "stdout",
     "output_type": "stream",
     "text": [
      "Epoch 4: Train Acc: 0.9867, Val Acc: 0.9873, Val Loss: 0.0090\n"
     ]
    },
    {
     "name": "stderr",
     "output_type": "stream",
     "text": [
      "                                                                                                                                              "
     ]
    },
    {
     "name": "stdout",
     "output_type": "stream",
     "text": [
      "Epoch 5: Train Acc: 0.9885, Val Acc: 0.9853, Val Loss: 0.0102\n",
      "Final Val Acc: 0.9853\n",
      "Обучение модели: kernel_size=5, out_channels=16\n"
     ]
    },
    {
     "name": "stderr",
     "output_type": "stream",
     "text": [
      "                                                                                                                                              "
     ]
    },
    {
     "name": "stdout",
     "output_type": "stream",
     "text": [
      "Epoch 1: Train Acc: 0.9407, Val Acc: 0.9812, Val Loss: 0.0148\n"
     ]
    },
    {
     "name": "stderr",
     "output_type": "stream",
     "text": [
      "                                                                                                                                              "
     ]
    },
    {
     "name": "stdout",
     "output_type": "stream",
     "text": [
      "Epoch 2: Train Acc: 0.9811, Val Acc: 0.9864, Val Loss: 0.0090\n"
     ]
    },
    {
     "name": "stderr",
     "output_type": "stream",
     "text": [
      "                                                                                                                                              "
     ]
    },
    {
     "name": "stdout",
     "output_type": "stream",
     "text": [
      "Epoch 3: Train Acc: 0.9865, Val Acc: 0.9857, Val Loss: 0.0091\n"
     ]
    },
    {
     "name": "stderr",
     "output_type": "stream",
     "text": [
      "                                                                                                                                              "
     ]
    },
    {
     "name": "stdout",
     "output_type": "stream",
     "text": [
      "Epoch 4: Train Acc: 0.9892, Val Acc: 0.9895, Val Loss: 0.0072\n"
     ]
    },
    {
     "name": "stderr",
     "output_type": "stream",
     "text": [
      "                                                                                                                                              "
     ]
    },
    {
     "name": "stdout",
     "output_type": "stream",
     "text": [
      "Epoch 5: Train Acc: 0.9911, Val Acc: 0.9884, Val Loss: 0.0075\n",
      "Final Val Acc: 0.9884\n",
      "Обучение модели: kernel_size=5, out_channels=32\n"
     ]
    },
    {
     "name": "stderr",
     "output_type": "stream",
     "text": [
      "                                                                                                                                              "
     ]
    },
    {
     "name": "stdout",
     "output_type": "stream",
     "text": [
      "Epoch 1: Train Acc: 0.9438, Val Acc: 0.9810, Val Loss: 0.0132\n"
     ]
    },
    {
     "name": "stderr",
     "output_type": "stream",
     "text": [
      "                                                                                                                                              "
     ]
    },
    {
     "name": "stdout",
     "output_type": "stream",
     "text": [
      "Epoch 2: Train Acc: 0.9826, Val Acc: 0.9592, Val Loss: 0.0277\n"
     ]
    },
    {
     "name": "stderr",
     "output_type": "stream",
     "text": [
      "                                                                                                                                              "
     ]
    },
    {
     "name": "stdout",
     "output_type": "stream",
     "text": [
      "Epoch 3: Train Acc: 0.9877, Val Acc: 0.9879, Val Loss: 0.0082\n"
     ]
    },
    {
     "name": "stderr",
     "output_type": "stream",
     "text": [
      "                                                                                                                                              "
     ]
    },
    {
     "name": "stdout",
     "output_type": "stream",
     "text": [
      "Epoch 4: Train Acc: 0.9894, Val Acc: 0.9901, Val Loss: 0.0075\n"
     ]
    },
    {
     "name": "stderr",
     "output_type": "stream",
     "text": [
      "                                                                                                                                              "
     ]
    },
    {
     "name": "stdout",
     "output_type": "stream",
     "text": [
      "Epoch 5: Train Acc: 0.9920, Val Acc: 0.9902, Val Loss: 0.0066\n",
      "Final Val Acc: 0.9902\n",
      "Обучение модели: kernel_size=5, out_channels=64\n"
     ]
    },
    {
     "name": "stderr",
     "output_type": "stream",
     "text": [
      "                                                                                                                                              "
     ]
    },
    {
     "name": "stdout",
     "output_type": "stream",
     "text": [
      "Epoch 1: Train Acc: 0.9427, Val Acc: 0.9771, Val Loss: 0.0184\n"
     ]
    },
    {
     "name": "stderr",
     "output_type": "stream",
     "text": [
      "                                                                                                                                              "
     ]
    },
    {
     "name": "stdout",
     "output_type": "stream",
     "text": [
      "Epoch 2: Train Acc: 0.9829, Val Acc: 0.9877, Val Loss: 0.0093\n"
     ]
    },
    {
     "name": "stderr",
     "output_type": "stream",
     "text": [
      "                                                                                                                                              "
     ]
    },
    {
     "name": "stdout",
     "output_type": "stream",
     "text": [
      "Epoch 3: Train Acc: 0.9877, Val Acc: 0.9877, Val Loss: 0.0085\n"
     ]
    },
    {
     "name": "stderr",
     "output_type": "stream",
     "text": [
      "                                                                                                                                              "
     ]
    },
    {
     "name": "stdout",
     "output_type": "stream",
     "text": [
      "Epoch 4: Train Acc: 0.9902, Val Acc: 0.9901, Val Loss: 0.0079\n"
     ]
    },
    {
     "name": "stderr",
     "output_type": "stream",
     "text": [
      "                                                                                                                                              "
     ]
    },
    {
     "name": "stdout",
     "output_type": "stream",
     "text": [
      "Epoch 5: Train Acc: 0.9919, Val Acc: 0.9881, Val Loss: 0.0076\n",
      "Final Val Acc: 0.9881\n",
      "Обучение модели: kernel_size=9, out_channels=8\n"
     ]
    },
    {
     "name": "stderr",
     "output_type": "stream",
     "text": [
      "                                                                                                                                              "
     ]
    },
    {
     "name": "stdout",
     "output_type": "stream",
     "text": [
      "Epoch 1: Train Acc: 0.9344, Val Acc: 0.9730, Val Loss: 0.0199\n"
     ]
    },
    {
     "name": "stderr",
     "output_type": "stream",
     "text": [
      "                                                                                                                                              "
     ]
    },
    {
     "name": "stdout",
     "output_type": "stream",
     "text": [
      "Epoch 2: Train Acc: 0.9772, Val Acc: 0.9841, Val Loss: 0.0115\n"
     ]
    },
    {
     "name": "stderr",
     "output_type": "stream",
     "text": [
      "                                                                                                                                              "
     ]
    },
    {
     "name": "stdout",
     "output_type": "stream",
     "text": [
      "Epoch 3: Train Acc: 0.9830, Val Acc: 0.9844, Val Loss: 0.0110\n"
     ]
    },
    {
     "name": "stderr",
     "output_type": "stream",
     "text": [
      "                                                                                                                                              "
     ]
    },
    {
     "name": "stdout",
     "output_type": "stream",
     "text": [
      "Epoch 4: Train Acc: 0.9860, Val Acc: 0.9861, Val Loss: 0.0096\n"
     ]
    },
    {
     "name": "stderr",
     "output_type": "stream",
     "text": [
      "                                                                                                                                              "
     ]
    },
    {
     "name": "stdout",
     "output_type": "stream",
     "text": [
      "Epoch 5: Train Acc: 0.9880, Val Acc: 0.9846, Val Loss: 0.0100\n",
      "Final Val Acc: 0.9846\n",
      "Обучение модели: kernel_size=9, out_channels=16\n"
     ]
    },
    {
     "name": "stderr",
     "output_type": "stream",
     "text": [
      "                                                                                                                                              "
     ]
    },
    {
     "name": "stdout",
     "output_type": "stream",
     "text": [
      "Epoch 1: Train Acc: 0.9485, Val Acc: 0.9687, Val Loss: 0.0224\n"
     ]
    },
    {
     "name": "stderr",
     "output_type": "stream",
     "text": [
      "                                                                                                                                              "
     ]
    },
    {
     "name": "stdout",
     "output_type": "stream",
     "text": [
      "Epoch 2: Train Acc: 0.9823, Val Acc: 0.9745, Val Loss: 0.0169\n"
     ]
    },
    {
     "name": "stderr",
     "output_type": "stream",
     "text": [
      "                                                                                                                                              "
     ]
    },
    {
     "name": "stdout",
     "output_type": "stream",
     "text": [
      "Epoch 3: Train Acc: 0.9871, Val Acc: 0.9850, Val Loss: 0.0108\n"
     ]
    },
    {
     "name": "stderr",
     "output_type": "stream",
     "text": [
      "                                                                                                                                              "
     ]
    },
    {
     "name": "stdout",
     "output_type": "stream",
     "text": [
      "Epoch 4: Train Acc: 0.9893, Val Acc: 0.9893, Val Loss: 0.0075\n"
     ]
    },
    {
     "name": "stderr",
     "output_type": "stream",
     "text": [
      "                                                                                                                                              "
     ]
    },
    {
     "name": "stdout",
     "output_type": "stream",
     "text": [
      "Epoch 5: Train Acc: 0.9910, Val Acc: 0.9905, Val Loss: 0.0065\n",
      "Final Val Acc: 0.9905\n",
      "Обучение модели: kernel_size=9, out_channels=32\n"
     ]
    },
    {
     "name": "stderr",
     "output_type": "stream",
     "text": [
      "                                                                                                                                              "
     ]
    },
    {
     "name": "stdout",
     "output_type": "stream",
     "text": [
      "Epoch 1: Train Acc: 0.9489, Val Acc: 0.9847, Val Loss: 0.0113\n"
     ]
    },
    {
     "name": "stderr",
     "output_type": "stream",
     "text": [
      "                                                                                                                                              "
     ]
    },
    {
     "name": "stdout",
     "output_type": "stream",
     "text": [
      "Epoch 2: Train Acc: 0.9834, Val Acc: 0.9878, Val Loss: 0.0080\n"
     ]
    },
    {
     "name": "stderr",
     "output_type": "stream",
     "text": [
      "                                                                                                                                              "
     ]
    },
    {
     "name": "stdout",
     "output_type": "stream",
     "text": [
      "Epoch 3: Train Acc: 0.9879, Val Acc: 0.9903, Val Loss: 0.0064\n"
     ]
    },
    {
     "name": "stderr",
     "output_type": "stream",
     "text": [
      "                                                                                                                                              "
     ]
    },
    {
     "name": "stdout",
     "output_type": "stream",
     "text": [
      "Epoch 4: Train Acc: 0.9902, Val Acc: 0.9902, Val Loss: 0.0065\n"
     ]
    },
    {
     "name": "stderr",
     "output_type": "stream",
     "text": [
      "                                                                                                                                              "
     ]
    },
    {
     "name": "stdout",
     "output_type": "stream",
     "text": [
      "Epoch 5: Train Acc: 0.9923, Val Acc: 0.9887, Val Loss: 0.0073\n",
      "Final Val Acc: 0.9887\n",
      "Обучение модели: kernel_size=9, out_channels=64\n"
     ]
    },
    {
     "name": "stderr",
     "output_type": "stream",
     "text": [
      "                                                                                                                                              "
     ]
    },
    {
     "name": "stdout",
     "output_type": "stream",
     "text": [
      "Epoch 1: Train Acc: 0.9454, Val Acc: 0.9816, Val Loss: 0.0115\n"
     ]
    },
    {
     "name": "stderr",
     "output_type": "stream",
     "text": [
      "                                                                                                                                              "
     ]
    },
    {
     "name": "stdout",
     "output_type": "stream",
     "text": [
      "Epoch 2: Train Acc: 0.9835, Val Acc: 0.9842, Val Loss: 0.0106\n"
     ]
    },
    {
     "name": "stderr",
     "output_type": "stream",
     "text": [
      "                                                                                                                                              "
     ]
    },
    {
     "name": "stdout",
     "output_type": "stream",
     "text": [
      "Epoch 3: Train Acc: 0.9882, Val Acc: 0.9834, Val Loss: 0.0121\n"
     ]
    },
    {
     "name": "stderr",
     "output_type": "stream",
     "text": [
      "                                                                                                                                              "
     ]
    },
    {
     "name": "stdout",
     "output_type": "stream",
     "text": [
      "Epoch 4: Train Acc: 0.9903, Val Acc: 0.9828, Val Loss: 0.0114\n"
     ]
    },
    {
     "name": "stderr",
     "output_type": "stream",
     "text": [
      "                                                                                                                                              "
     ]
    },
    {
     "name": "stdout",
     "output_type": "stream",
     "text": [
      "Epoch 5: Train Acc: 0.9923, Val Acc: 0.9903, Val Loss: 0.0066\n",
      "Final Val Acc: 0.9903\n"
     ]
    },
    {
     "name": "stderr",
     "output_type": "stream",
     "text": []
    }
   ],
   "source": [
    "\n",
    "kernel_sizes = [1, 5, 9]\n",
    "out_channels_list = [8, 16, 32, 64]\n",
    "\n",
    "results = {}  \n",
    "for ks in kernel_sizes:\n",
    "    for oc in out_channels_list:\n",
    "        print(f\"Обучение модели: kernel_size={ks}, out_channels={oc}\")\n",
    "\n",
    "        H_conv = 28 - ks + 1\n",
    "        H_pooled = H_conv // 4\n",
    "\n",
    "        if H_conv % 4 != 0:\n",
    "            continue\n",
    "\n",
    "        model = nn.Sequential(\n",
    "            nn.Conv2d(in_channels=1, out_channels=oc, kernel_size=ks),\n",
    "            nn.ReLU(),\n",
    "            nn.MaxPool2d(kernel_size=4),\n",
    "            nn.Flatten(),\n",
    "            nn.Linear(H_pooled * H_pooled * oc, 128),\n",
    "            nn.ReLU(),\n",
    "            nn.Linear(128, 10)\n",
    "        )\n",
    "\n",
    "        optimizer = torch.optim.RMSprop(model.parameters(), lr=0.001)\n",
    "        loss_fn = F.binary_cross_entropy_with_logits\n",
    "\n",
    "        history = train(model=model,optimizer=optimizer,loss_fn=loss_fn,n_epochs=5,train_dataloader=train_dataloader,val_dataloader=val_dataloader )\n",
    "\n",
    "        key = f\"ks{ks}_oc{oc}\"\n",
    "        results[key] = {\n",
    "            'history': history,\n",
    "            'kernel_size': ks,\n",
    "            'out_channels': oc,\n",
    "            'final_val_acc': history['val_acc'][-1] if history['val_acc'] else 0,\n",
    "            'final_val_loss': history['val_loss'][-1] if history['val_loss'] else float('inf')\n",
    "        }\n",
    "\n",
    "        print(f\"Final Val Acc: {results[key]['final_val_acc']:.4f}\")"
   ]
  },
  {
   "cell_type": "code",
   "execution_count": 31,
   "id": "b495238c-e82f-44fd-ae28-720b57ffd968",
   "metadata": {},
   "outputs": [
    {
     "data": {
      "image/png": "[encoded data removed]",
      "text/plain": [
       "<Figure size 1400x500 with 2 Axes>"
      ]
     },
     "metadata": {},
     "output_type": "display_data"
    }
   ],
   "source": [
    "fig, axes = plt.subplots(1, 2, figsize=(14, 5))\n",
    "fig.suptitle('Сравнение всех моделей', fontsize=16)\n",
    "\n",
    "\n",
    "labels = []\n",
    "final_accs = []\n",
    "final_losses = []\n",
    "\n",
    "for key, data in results.items():\n",
    "    labels.append(key)\n",
    "    final_accs.append(data['final_val_acc'])\n",
    "    final_losses.append(data['final_val_loss'])\n",
    "\n",
    "# Accuracy (Все)\n",
    "axes[0].bar(labels, final_accs, color='skyblue', edgecolor='black')\n",
    "axes[0].set_title('Final Validation Accuracy by Model')\n",
    "axes[0].set_ylabel('Accuracy')\n",
    "axes[0].tick_params(axis='x', rotation=45)\n",
    "axes[0].set_ylim(0.85, 0.995)\n",
    "axes[0].grid(axis='y', linestyle='--', alpha=0.7)\n",
    "\n",
    "# Loss (Все)\n",
    "axes[1].bar(labels, final_losses, color='salmon', edgecolor='black')\n",
    "axes[1].set_title('Final Validation Loss by Model')\n",
    "axes[1].set_ylabel('Loss')\n",
    "axes[1].set_ylim(0.004, 0.09)\n",
    "axes[1].tick_params(axis='x', rotation=45)\n",
    "axes[1].grid(axis='y', linestyle='--', alpha=0.7)\n",
    "\n",
    "plt.tight_layout()\n",
    "plt.show()"
   ]
  },
  {
   "cell_type": "code",
   "execution_count": 32,
   "id": "781fdb43-568e-432d-b66a-5b11eb714647",
   "metadata": {},
   "outputs": [
    {
     "data": {
      "image/png": "[encoded data removed]",
      "text/plain": [
       "<Figure size 1600x1000 with 2 Axes>"
      ]
     },
     "metadata": {},
     "output_type": "display_data"
    }
   ],
   "source": [
    "fig, axes = plt.subplots(1, 2, figsize=(16, 10))\n",
    "fig.suptitle('Сравнение моделей: Без kernel_size=1', fontsize=16)\n",
    "\n",
    "\n",
    "labels_filtered = []\n",
    "final_accs_filtered = []\n",
    "final_losses_filtered = []\n",
    "\n",
    "for key, data in results.items():\n",
    "    if not key.startswith(\"ks1\"):  # ← Исключаем все, что начинается с \"ks1\"\n",
    "        labels_filtered.append(key)\n",
    "        final_accs_filtered.append(data['final_val_acc'])\n",
    "        final_losses_filtered.append(data['final_val_loss'])\n",
    "\n",
    "# Accuracy\n",
    "axes[0].bar(labels_filtered, final_accs_filtered, color='lightgreen', edgecolor='black')\n",
    "axes[0].set_title('Final Validation Accuracy (Without ks1 Models)')\n",
    "axes[0].set_ylabel('Accuracy')\n",
    "axes[0].tick_params(axis='x', rotation=45)\n",
    "axes[0].set_ylim(0.98, 0.995)\n",
    "axes[0].grid(axis='y', linestyle='--', alpha=0.7)\n",
    "\n",
    "# Loss\n",
    "axes[1].bar(labels_filtered, final_losses_filtered, color='orange', edgecolor='black')\n",
    "axes[1].set_title('Final Validation Loss (Without ks1 Models)')\n",
    "axes[1].set_ylabel('Loss')\n",
    "axes[1].set_ylim(0.004, 0.011)\n",
    "axes[1].tick_params(axis='x', rotation=45)\n",
    "axes[1].grid(axis='y', linestyle='--', alpha=0.7)\n",
    "\n",
    "plt.tight_layout()\n",
    "plt.show()"
   ]
  },
  {
   "cell_type": "markdown",
   "id": "7a934984-fae4-4c28-aed4-cee0854c8b4d",
   "metadata": {},
   "source": [
    "# Анализ результатов экспериментов: влияние `kernel_size` и `out_channels` на качество модели\n",
    "\n",
    "На представленных графиках показано сравнение моделей с разными значениями **`kernel_size`** (размер ядра свёртки) и **`out_channels`** (количество фильтров) на задаче классификации изображений\n",
    "\n",
    "### Сравнение всех моделей (включая `ks1`)\n",
    "- Модели с `kernel_size=1` демонстрируют значительно более низкую точность высокий loss\n",
    "- Это связано с тем, что `kernel_size=1` эквивалентен полносвязному слою, короче он не извлекает локальные признаки, а просто комбинирует пиксели\n",
    "- Такие модели теряют пространственную информацию и неэффективны для изображений\n",
    "\n",
    "### Сравнение без `ks1` (только `ks3`, `ks5`, `ks9`)\n",
    "- Все модели показывают высокую точность (**>0.98**) и низкий loss (**<0.01**)\n",
    "- Лучшие результаты достигнуты при:\n",
    "  - `ks5_oc32`: accuracy ~0.990, loss ~0.006\n",
    "  - `ks9_oc16`: accuracy ~0.990, loss ~0.007\n",
    "- Увеличение `out_channels` положительно влияет на точность, но при слишком большом числе фильтров может привести к переобучению\n",
    "\n",
    "## Выводы\n",
    "\n",
    "1. **`kernel_size=1` не подходит для извлечения признаков** - он не учитывает локальную структуру изображения\n",
    "2. **Оптимальный размер ядра** - `5×5` или `9×9`, которые хорошо захватывают края, углы и текстуры\n",
    "3. **Количество фильтров** должно быть достаточно большим (16-32), чтобы извлекать разнообразные признаки\n",
    "4. **Лучшая комбинация**: `kernel_size=5`, `out_channels=32` обеспечивает максимальную точность и минимальный loss\n",
    "## Итоговый результат - 0.9902"
   ]
  },
  {
   "cell_type": "code",
   "execution_count": null,
   "id": "2b78a801-50c3-4e76-81b2-45c2d29455d2",
   "metadata": {},
   "outputs": [],
   "source": []
  }
 ],
 "metadata": {
  "colab": {
   "provenance": []
  },
  "kernelspec": {
   "display_name": "Python 3 (ipykernel)",
   "language": "python",
   "name": "python3"
  },
  "language_info": {
   "codemirror_mode": {
    "name": "ipython",
    "version": 3
   },
   "file_extension": ".py",
   "mimetype": "text/x-python",
   "name": "python",
   "nbconvert_exporter": "python",
   "pygments_lexer": "ipython3",
   "version": "3.13.6"
  }
 },
 "nbformat": 4,
 "nbformat_minor": 5
}
